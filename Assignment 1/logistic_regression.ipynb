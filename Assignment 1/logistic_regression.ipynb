{
  "nbformat": 4,
  "nbformat_minor": 0,
  "metadata": {
    "colab": {
      "provenance": [],
      "collapsed_sections": [],
      "toc_visible": true
    },
    "kernelspec": {
      "name": "python3",
      "display_name": "Python 3"
    }
  },
  "cells": [
    {
      "cell_type": "code",
      "metadata": {
        "id": "a79v7_LoGjUi"
      },
      "source": [
        "import numpy as np\n",
        "import matplotlib.pyplot as plt"
      ],
      "execution_count": null,
      "outputs": []
    },
    {
      "cell_type": "markdown",
      "metadata": {
        "id": "oE9JO4UIQsrB"
      },
      "source": [
        "# Data generation \n",
        "\n",
        "We will first start by generating two clusters of data points. Then our task in this exercise is to define a boundary that separates the clusters, given a few observations from each cluster. When new data arrives, we can easily decide which cluster the new observation actually belongs to, i.e. **classifying** the new observation to one of the two clusters.   \n",
        "\n",
        "*Run the below 3 code blocks and observe the two clusters of data points in the plot.* "
      ]
    },
    {
      "cell_type": "code",
      "metadata": {
        "id": "2xm0nLclFuIJ"
      },
      "source": [
        "cluster_centres = np.array([[-1, -3], [2, 2]])\n",
        "colour_list = ['red', 'blue']\n",
        "\n",
        "def generateData(num_samples_pc, dimensions=2, cluster_locs=cluster_centres):\n",
        "    data = []\n",
        "    labels = []\n",
        "\n",
        "    for c, locs in enumerate(cluster_locs):\n",
        "        pos = np.random.randn(num_samples_pc, dimensions) + locs\n",
        "        data.append(pos)\n",
        "        labels.append(np.ones(num_samples_pc) * c)\n",
        "\n",
        "    data_np = np.concatenate(data, axis=0)\n",
        "    labels_np = np.concatenate(labels, axis=0)\n",
        "    return data_np, labels_np\n",
        "\n",
        "train_data, train_labs = generateData(100)\n",
        "test_data, test_labs = generateData(10)"
      ],
      "execution_count": null,
      "outputs": []
    },
    {
      "cell_type": "code",
      "metadata": {
        "id": "14U53mhaHSJJ"
      },
      "source": [
        "def plot_data(data, labs, a=None, b=None, c=None, color=colour_list):\n",
        "  plt.xlim([-8, 8])\n",
        "  plt.ylim([-8, 8])\n",
        "  for ic in range(2):\n",
        "      ind_class = np.where(labs == ic)\n",
        "      #color = plt.cm.Set1(ic)\n",
        "      plt.scatter(data[ind_class, 0], data[ind_class, 1], s=10, color=color[ic], label=str(ic))\n",
        "\n",
        "  if a is not None and b is not None and c is not None:\n",
        "    x = np.linspace(-8, 8, 10)\n",
        "    y = ( - b * x - c) / a\n",
        "    plt.plot(x, y)\n",
        "    \n",
        "  plt.ylabel(\"x2\")\n",
        "  plt.xlabel(\"x1\")\n",
        "  plt.gca().set_aspect('equal')\n",
        "  plt.show()"
      ],
      "execution_count": null,
      "outputs": []
    },
    {
      "cell_type": "code",
      "metadata": {
        "colab": {
          "base_uri": "https://localhost:8080/",
          "height": 283
        },
        "id": "pxTFdWoLJe3U",
        "outputId": "bc3c982c-c72b-4626-d7ad-b18e8a60a3fc"
      },
      "source": [
        "plot_data(train_data, train_labs)"
      ],
      "execution_count": null,
      "outputs": [
        {
          "output_type": "display_data",
          "data": {
            "text/plain": [
              "<Figure size 432x288 with 1 Axes>"
            ],
            "image/png": "[encoded data removed]"
          },
          "metadata": {
            "needs_background": "light"
          }
        }
      ]
    },
    {
      "cell_type": "markdown",
      "metadata": {
        "id": "lxaJ7VIIKUdu"
      },
      "source": [
        "# Decision boundary\n",
        "\n",
        "* The decision boundary is a line which separates out the data points from different clusters.\n",
        "\n",
        "* If we have a data point $\\mathbf{x}$ that we want to classify, where $\\mathbf{x} = \\{x_1, x_2\\}$ -- a 2D feature vector. Then the predicted class depends on which side of the line $\\mathbf{x}$ lies.\n",
        "\n",
        "* We represent the decision boundary of the form: $f(\\mathbf{x}) = ax_1 + bx_2 + c = 0$.\n",
        "\n",
        "* This allows us to easily compute which side of the line the point lies from looking at the sign of $f(\\mathbf{x}) = ax_1 + bx_2 + c$.\n",
        "\n",
        "* A positive sign indicates that the data point $\\mathbf{x}$ belongs to the blue class, and a negative sign indicates red.\n",
        "\n"
      ]
    },
    {
      "cell_type": "markdown",
      "metadata": {
        "id": "r7Fj6A9LOhiW"
      },
      "source": [
        "# Sigmoid function\n",
        "\n",
        "* The sigmoid function is defined as: $\\sigma (t) =\\frac{1}{1 + exp(-t)}$\n",
        "\n",
        "* The sigmoid function has some very nice properties (see the lecture note). An important one is that the value of the sigmoid function always lies in between 0 and 1. Hence, it's a perfect tool to model probability distributions. \n",
        "\n",
        "* Here, we use the sigmoid function to represent the probability that a data point $\\mathbf{x}$ is from a certain class $\\mathcal{C}_i$, where $i$ is either 0 or 1."
      ]
    },
    {
      "cell_type": "markdown",
      "metadata": {
        "id": "QAWi2hZ0RKPM"
      },
      "source": [
        "## Task 1: Implement sigmoid function\n",
        "\n",
        "*TODO: Implement the sigmoid function in the code block below.*\n",
        "\n",
        "Hint: Consider to use the `np.exp()` function. "
      ]
    },
    {
      "cell_type": "code",
      "metadata": {
        "id": "jDrgBFXcPesU",
        "colab": {
          "base_uri": "https://localhost:8080/"
        },
        "outputId": "0dec0d1f-584d-4f72-ec28-d601229abef0"
      },
      "source": [
        "cluster_centres = np.array([[-1, -3], [2, 2]])\n",
        "\n",
        "def sigmoid(x):\n",
        "  ## TODO implement sigmoid in here ##\n",
        "  ####\n",
        "  ###\n",
        "  return sigmoid_value\n",
        "\n",
        "print(sigmoid(cluster_centres))\n",
        "\n",
        "print(cluster_centres + 1)"
      ],
      "execution_count": null,
      "outputs": [
        {
          "output_type": "stream",
          "text": [
            "[[0.26894142 0.04742587]\n",
            " [0.88079708 0.88079708]]\n",
            "[[ 0 -2]\n",
            " [ 3  3]]\n"
          ],
          "name": "stdout"
        }
      ]
    },
    {
      "cell_type": "markdown",
      "metadata": {
        "id": "1kB2adaWQC1p"
      },
      "source": [
        "Let's plot the sigmoid function using the function below to see its shape."
      ]
    },
    {
      "cell_type": "code",
      "metadata": {
        "colab": {
          "base_uri": "https://localhost:8080/",
          "height": 279
        },
        "id": "U9KDzYcORSVH",
        "outputId": "57b4dc46-5301-4264-8317-0aa9815d24da"
      },
      "source": [
        "t = np.linspace(-10, 10, 100)\n",
        "sigmoid_t = sigmoid(t)\n",
        "plt.plot(t, sigmoid_t, 'b-')\n",
        "plt.xlim([-10, 10])\n",
        "#plt.gca().set_aspect('equal')\n",
        "plt.xlabel(\"input t\")\n",
        "plt.ylabel(\"sigmoid value\")\n",
        "plt.grid(True)\n",
        "plt.show()"
      ],
      "execution_count": null,
      "outputs": [
        {
          "output_type": "display_data",
          "data": {
            "image/png": "[encoded data removed]",
            "text/plain": [
              "<Figure size 432x288 with 1 Axes>"
            ]
          },
          "metadata": {
            "tags": [],
            "needs_background": "light"
          }
        }
      ]
    },
    {
      "cell_type": "markdown",
      "metadata": {
        "id": "9hKe_G3tRP8D"
      },
      "source": [
        "Now can we combine the sigmoid function with the equation of our linear decision boundary to get a predictive probability for the class labels of a 2D data point?\n",
        "\n",
        "* Think about the output of the function $ay + bx + c$ and how that could work with the sigmoid function.\n",
        "\n",
        "* HINT: If a point lies on the line $ay + bx + c = 0$ what is the probability that it belongs to each class?"
      ]
    },
    {
      "cell_type": "markdown",
      "metadata": {
        "id": "O_kF_kaWRYk0"
      },
      "source": [
        "## Task 2: Predictive probability of a data point\n",
        "\n",
        "* TODO: Implement a function which gives the predictive probability $p(\\mathbf{x})$ of 2D data points $\\mathbf{x}=(x_1, x_2)$ being in the blue class for the given values for `a`, `b` and `c`. You will need to use the sigmoid function and evaluate $ay + bx + c$. \n"
      ]
    },
    {
      "cell_type": "code",
      "metadata": {
        "id": "C6AbqNfASifE",
        "colab": {
          "base_uri": "https://localhost:8080/"
        },
        "outputId": "1e3b7e73-3cb2-4e6e-f5fb-a405e3667830"
      },
      "source": [
        "def predictive_prob(x, a, b, c):\n",
        "  ## TODO ##\n",
        "  ####\n",
        "  ####\n",
        "  ## TODO end ##\n",
        "  return pred_prob\n",
        "\n",
        "print(cluster_centres)\n",
        "print(cluster_centres[:,1])"
      ],
      "execution_count": null,
      "outputs": [
        {
          "output_type": "stream",
          "text": [
            "[[-1 -3]\n",
            " [ 2  2]]\n",
            "[-3  2]\n"
          ],
          "name": "stdout"
        }
      ]
    },
    {
      "cell_type": "markdown",
      "metadata": {
        "id": "BghJPZtnVByb"
      },
      "source": [
        "# Learning Objective: Binary Cross-Entropy Loss\n",
        "\n",
        "* We want to find a way to automatically infer the decision boundary.\n",
        "\n",
        "* The best decision boundary is the one which will assign a low probability of a data point being `blue` if it actually belongs to the `red` class and a probability of a data point being `red` if it does belong to the `red` class.\n",
        "\n",
        "* We use the Binary Cross Entropy loss to work out the decision boundary.\n",
        "\n",
        "$$\n",
        "\\mathcal{L} = \\sum_{i=1}^{N}- y_i\\log(p(\\mathbf{x}_i)) - (1 - y_i)\\log(1 - p(\\mathbf{x}_i))\n",
        "$$\n",
        "\n",
        "* Where $y_i$ represent $i$th element of `train_labs`, which is a vector of 0s and 1s. Here 0 indicates that the corresponding $i$th data point in `train_data` is `red` and 1 indicates that it is `blue`. $\\mathbf{x}_i$ is a data point in `train_data` and $p(\\mathbf{x}_i)$ represents our predictive probability that $\\mathbf{x}_i$ is blue.\n"
      ]
    },
    {
      "cell_type": "markdown",
      "metadata": {
        "id": "3HC1cVNGRhrA"
      },
      "source": [
        "### Task 3: Implement the binary cross entropy loss.\n",
        "\n",
        "*TODO: Implement the BCE loss in the function below.* "
      ]
    },
    {
      "cell_type": "code",
      "metadata": {
        "id": "e4YSSymZW1Da"
      },
      "source": [
        "def bce_loss(pred_probs, y):\n",
        "  ## TODO ##\n",
        "  ###\n",
        "  ###\n",
        "  ## TODO end ##\n",
        "  return bce"
      ],
      "execution_count": null,
      "outputs": []
    },
    {
      "cell_type": "markdown",
      "metadata": {
        "id": "JhhbVO6OdrtB"
      },
      "source": [
        "### Is BCE a good metric for how well our decision boundary seperates our data?\n",
        "\n",
        "Play around with the vlaues of `a`, `b`, and `c` below to see how they effect the values of BCE loss.\n",
        "\n"
      ]
    },
    {
      "cell_type": "code",
      "metadata": {
        "colab": {
          "base_uri": "https://localhost:8080/",
          "height": 300
        },
        "id": "KeiRbWOId3_U",
        "outputId": "affcc688-3ef7-4a2d-8eda-12ce1feb6069"
      },
      "source": [
        "a=5\n",
        "b=5\n",
        "c=1\n",
        "\n",
        "plot_data(train_data, train_labs, a, b, c)\n",
        "print(\"BCE loss: \" + str(bce_loss(predictive_prob(train_data, a, b, c), train_labs)))"
      ],
      "execution_count": null,
      "outputs": [
        {
          "output_type": "display_data",
          "data": {
            "image/png": "[encoded data removed]",
            "text/plain": [
              "<Figure size 432x288 with 1 Axes>"
            ]
          },
          "metadata": {
            "tags": [],
            "needs_background": "light"
          }
        },
        {
          "output_type": "stream",
          "text": [
            "BCE loss: 0.17564595148687334\n"
          ],
          "name": "stdout"
        }
      ]
    },
    {
      "cell_type": "markdown",
      "metadata": {
        "id": "fSaalIBMYidn"
      },
      "source": [
        "# Optimization with Gradient Descent (GD)\n",
        "\n",
        "* Gradient descent is a way to minimize (or maximize) a function, just think of it as walking down a hill.\n",
        "\n",
        "* If you want to walk down a hill from a random point, you'd choose a direction which points down, and then take a step.\n",
        "\n",
        "* That's what we do a lot in machine learning (literally, this is what everyone uses all the time), but rather than take a physical step, we just move the parameters by a certain amount which we call a step. \n",
        "\n",
        "* For GD to be useful, we need to calculate the gradient of our loss function.\n",
        "\n",
        "* The gradients for BCE are:\n",
        "\n",
        "$$\n",
        "\\frac{\\partial\\mathcal{L}}{\\partial a} = \\sum_{i=1}^{N}(\\sigma(ax_1^i + bx_2^i + c) - y^i)x_1^i\n",
        "$$\n",
        "\n",
        "$$\n",
        "\\frac{\\partial\\mathcal{L}}{\\partial b} = \\sum_{i=1}^{N}(\\sigma(ax_1^i + bx_2^i + c) - y^i)x_2^i\n",
        "$$\n",
        "\n",
        "$$\n",
        "\\frac{\\partial\\mathcal{L}}{\\partial c} = \\sum_{i=1}^{N}(\\sigma(ax_1^i + bx_2^i + c) - y^i)\n",
        "$$\n",
        "\n",
        "Note that $(\\mathbf{x}^i, y^i)$ refer to the $i$-th data points in our observations.\n"
      ]
    },
    {
      "cell_type": "markdown",
      "metadata": {
        "id": "jDx48onIRsqm"
      },
      "source": [
        "### Task 4: Implement the gradient of $a, b$ and $c$\n",
        "\n",
        "*TODO: Complete the below code block to implement a function which returns the gradients of $a, b$ and $c$.* \n",
        "\n",
        "You can return multiple values from a function using `return grad_a, grad_b, grad_c`"
      ]
    },
    {
      "cell_type": "code",
      "metadata": {
        "id": "OaBapwlKawaE"
      },
      "source": [
        "def compute_gradients(x, a, b, c, y):\n",
        "  ## TODO ## \n",
        "  ###\n",
        "  ###\n",
        "  ###\n",
        "  ## TODO end ##\n",
        "  return grad_a, grad_b, grad_c"
      ],
      "execution_count": null,
      "outputs": []
    },
    {
      "cell_type": "markdown",
      "metadata": {
        "id": "IMbKj5zqcA3Q"
      },
      "source": [
        "### Task 5: Implement the gradient descent algorithm.\n",
        "\n",
        "* You will need the following equation to take a step:\n",
        "\n",
        "$$\n",
        "a^{t+1} = a^{t} - \\alpha\\cdot\\frac{\\partial\\mathcal{L}}{\\partial a^{t}}\n",
        "$$"
      ]
    },
    {
      "cell_type": "code",
      "metadata": {
        "colab": {
          "base_uri": "https://localhost:8080/",
          "height": 473
        },
        "id": "pqomEdGwchuR",
        "outputId": "64de5a19-7e36-4334-9a2e-76cc632b5936"
      },
      "source": [
        "def optimize(train_data, train_labs, num_steps):\n",
        "    a, b, c = 2, -1, -5\n",
        "    lr = 5e-3\n",
        "    for i in range(num_steps):\n",
        "      ## TODO ## \n",
        "      ###\n",
        "      ###\n",
        "      ###\n",
        "      ## TODO end ## \n",
        "\n",
        "      if i % 10 == 0:\n",
        "        print(\"Iteration %i\\tLoss %.3f\" % (i, bce_loss(predictive_prob(train_data, a, b, c), train_labs)))\n",
        "        \n",
        "    plot_data(train_data, train_labs, a, b, c)\n",
        "\n",
        "    return a, b, c\n",
        "\n",
        "\n",
        "a_opt, b_opt, c_opt = optimize(train_data, train_labs, 100)\n",
        "print(\"The optimised parameters are: a=\" + str(a_opt) + \", b=\" + str(b_opt) + \", c=\" + str(c_opt))"
      ],
      "execution_count": null,
      "outputs": [
        {
          "output_type": "stream",
          "text": [
            "Iteration 0\tLoss 100.819\n",
            "Iteration 10\tLoss 13.659\n",
            "Iteration 20\tLoss 8.492\n",
            "Iteration 30\tLoss 6.424\n",
            "Iteration 40\tLoss 5.237\n",
            "Iteration 50\tLoss 4.437\n",
            "Iteration 60\tLoss 3.849\n",
            "Iteration 70\tLoss 3.395\n",
            "Iteration 80\tLoss 3.030\n",
            "Iteration 90\tLoss 2.732\n"
          ],
          "name": "stdout"
        },
        {
          "output_type": "display_data",
          "data": {
            "image/png": "[encoded data removed]",
            "text/plain": [
              "<Figure size 432x288 with 1 Axes>"
            ]
          },
          "metadata": {
            "tags": [],
            "needs_background": "light"
          }
        },
        {
          "output_type": "stream",
          "text": [
            "The optimised parameters are: a=3.971006827172545, b=2.7881561661074032, c=-2.409701795086915\n"
          ],
          "name": "stdout"
        }
      ]
    },
    {
      "cell_type": "markdown",
      "metadata": {
        "id": "awqzNnyJgfvB"
      },
      "source": [
        "What do you notice about the loss value? Is it doing what you expect?"
      ]
    },
    {
      "cell_type": "markdown",
      "metadata": {
        "id": "tFRk6isvgHtk"
      },
      "source": [
        "# Evaluating a Classifier\n",
        "\n",
        "We have now found out the parameters of a linear classifier. How well does it perform on the classification task on the 2D points? On what metric should we evaluate it on? Should we evaluate it on the **training set**, a set of data points that we use to estimate the classifier's parameters? Or should it be evaluated on a held-out **test set**, a set of data points that are reserved from training and only used for evaluating the model performance? What is the importance of having these two separate sets?\n",
        "\n",
        "We explore these questions in this section. \n",
        "\n",
        "\n",
        "\n",
        "*   We often use the accuracy of a classifier as the performance metric.\n",
        "*   It is defined as: $ \\text{Accuracy} = \\frac{\\text{Number of correct prediction}}{\\text{Number of total prediction}}$\n",
        "\n"
      ]
    },
    {
      "cell_type": "markdown",
      "metadata": {
        "id": "pYBJxgcsgKTT"
      },
      "source": [
        "## Task 6: Test set\n",
        "\n",
        "To evaluate a classifier, we first need to use it to make some predictions. At the beginning of this notebook, we generated some test data alongside of the training data. Check in the Data Generation section and look for two variables called `test_data` and `test_labs`. "
      ]
    },
    {
      "cell_type": "code",
      "metadata": {
        "id": "d8632grodvgH",
        "colab": {
          "base_uri": "https://localhost:8080/"
        },
        "outputId": "e980771c-8a3d-44ff-9b08-00168006d337"
      },
      "source": [
        "print(test_data.shape, test_labs.shape)\n",
        "print(\"Test data:\", test_data)\n",
        "print(\"Test labels:\", test_labs)"
      ],
      "execution_count": null,
      "outputs": [
        {
          "output_type": "stream",
          "text": [
            "(20, 2) (20,)\n",
            "Test data: [[-0.19606519 -3.94257098]\n",
            " [-1.85398363 -3.75154114]\n",
            " [-0.75774671 -1.20207902]\n",
            " [-2.02288845 -3.92632484]\n",
            " [-1.74000966 -3.86320222]\n",
            " [-0.24087832 -1.98708925]\n",
            " [ 0.18620036 -3.58072768]\n",
            " [-0.2950113  -2.58914449]\n",
            " [-2.04654834 -3.70495711]\n",
            " [-0.45772423 -3.50694984]\n",
            " [ 3.76877112  1.27429157]\n",
            " [ 1.46063945  3.82873669]\n",
            " [ 3.63833956  3.32696848]\n",
            " [ 0.78618266  0.96762098]\n",
            " [ 0.14498841  2.0532794 ]\n",
            " [ 2.86506206  1.86746168]\n",
            " [ 1.23846228  1.21286784]\n",
            " [ 1.89096405  1.54080049]\n",
            " [ 2.29993955  0.64595997]\n",
            " [ 0.43608288  1.85137029]]\n",
            "Test labels: [0. 0. 0. 0. 0. 0. 0. 0. 0. 0. 1. 1. 1. 1. 1. 1. 1. 1. 1. 1.]\n"
          ],
          "name": "stdout"
        }
      ]
    },
    {
      "cell_type": "markdown",
      "metadata": {
        "id": "GmzATjZYgPQx"
      },
      "source": [
        "## Task: Make prediction \n",
        "\n",
        "*TODO: can you make predictions using the $a, b, c$ values that you've found in Task 4b? Please complete the below code block.*  "
      ]
    },
    {
      "cell_type": "code",
      "metadata": {
        "colab": {
          "base_uri": "https://localhost:8080/"
        },
        "id": "FxXvPWX1gTvr",
        "outputId": "c8b3737f-c113-4ad2-ed1b-c128d445c5fb"
      },
      "source": [
        "def predict_labels(x, a, b, c):\n",
        "  ## TODO ##\n",
        "  ###\n",
        "  ###\n",
        "  ## TODO end ##\n",
        "  return pred_labels\n",
        "\n",
        "\n",
        "test_labs_predicted = predict_labels(test_data, a=a_opt, b=b_opt, c=c_opt)\n",
        "print(\"Predictions: \" , test_labs_predicted)\n",
        "print(\"Real labels: \", test_labs)"
      ],
      "execution_count": null,
      "outputs": [
        {
          "output_type": "stream",
          "text": [
            "Predictions:  [0. 0. 0. 0. 0. 0. 0. 0. 0. 0. 1. 1. 1. 1. 1. 1. 1. 1. 1. 1.]\n",
            "Real labels:  [0. 0. 0. 0. 0. 0. 0. 0. 0. 0. 1. 1. 1. 1. 1. 1. 1. 1. 1. 1.]\n"
          ],
          "name": "stdout"
        }
      ]
    },
    {
      "cell_type": "markdown",
      "metadata": {
        "id": "Y8SYiclXgWUV"
      },
      "source": [
        "## Task: Compute accuracy\n",
        "\n",
        "With the predicted labels `test_labs_predicted` from the previous task and the ground truth test labels `test_labs`, can you now evaluate the classifier's accuracy? \n",
        "\n",
        "*TODO: complete the below code block that computes the classifier's accuracy."
      ]
    },
    {
      "cell_type": "code",
      "metadata": {
        "id": "AMJ_ngW-gVh8"
      },
      "source": [
        "## TODO ##\n",
        "accuracy = ###\n",
        "## TODO end ##\n",
        "print(accuracy)"
      ],
      "execution_count": null,
      "outputs": []
    },
    {
      "cell_type": "code",
      "source": [],
      "metadata": {
        "id": "cqbmHAb3pPpe"
      },
      "execution_count": null,
      "outputs": []
    }
  ]
}